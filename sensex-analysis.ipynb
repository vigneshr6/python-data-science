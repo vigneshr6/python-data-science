{
 "cells": [
  {
   "cell_type": "code",
   "execution_count": 68,
   "metadata": {},
   "outputs": [],
   "source": [
    "import pandas as pd\n",
    "import numpy as np\n",
    "# import seaborn as sns\n",
    "import matplotlib.pyplot as plt\n",
    "from scipy import stats"
   ]
  },
  {
   "cell_type": "code",
   "execution_count": 87,
   "metadata": {},
   "outputs": [
    {
     "name": "stdout",
     "output_type": "stream",
     "text": [
      "1     11.41\n",
      "2      9.03\n",
      "3      1.46\n",
      "4      2.46\n",
      "5      0.40\n",
      "6     -3.28\n",
      "7      8.09\n",
      "8      4.90\n",
      "9      8.57\n",
      "10     2.48\n",
      "11     2.28\n",
      "12     7.56\n",
      "13     4.04\n",
      "14    -2.14\n",
      "15     0.72\n",
      "16     4.62\n",
      "17     1.20\n",
      "18    -4.90\n",
      "19    -4.47\n",
      "20     2.97\n",
      "21    -9.03\n",
      "22    -7.44\n",
      "23    10.24\n",
      "24    -1.16\n",
      "25    -0.35\n",
      "26     8.31\n",
      "27     5.90\n",
      "28     0.90\n",
      "29     1.71\n",
      "30     2.55\n",
      "dtype: float64\n"
     ]
    }
   ],
   "source": [
    "df_sensex = pd.read_excel(\"./input/Sensex-Daily-Data.xlsx\")\n",
    "df_sensex = df_sensex.iloc[:,0:8]\n",
    "# df_sensex['Change'] = pd.Series([\"{0:.3f}\".format(val * 100) for val in df_sensex['Change']], index = df_sensex.index)\n",
    "df_sensex['Change'] = pd.Series([round(val * 100,2) for val in df_sensex['Change']], index = df_sensex.index)\n",
    "# df_sensex.head(3)\n",
    "# z = np.abs(stats.zscore(df_sensex['Change']))\n",
    "# print([df_sensex.iloc[val] for val in np.where(z > 3)])\n",
    "\n",
    "#remove outliers\n",
    "df_sensex = df_sensex[(np.abs(stats.zscore(df_sensex['Change'])) < 3)]\n",
    "# sns.boxplot(x=df_sensex['Change'])\n",
    "# plt.plot(df_sensex['Day Of Month'],df_sensex['Change'])\n",
    "# ar = np.arange(df_sensex['Change'].min(),df_sensex['Change'].max(),0.5)\n",
    "daySum = pd.Series([df_sensex.loc[df_sensex['Day Of Month'] == day, 'Change'].sum() for day in np.arange(1,31,1)],np.arange(1,31,1))\n",
    "print(daySum)\n",
    "\n",
    "# plot graph\n",
    "\n",
    "\n",
    "# plt.xticks(np.arange(1,31,1))\n",
    "# plt.yticks(np.arange(df_sensex['Change'].min(),df_sensex['Change'].max(),1.00))\n",
    "# plt.scatter(x=np.arange(1,31,1),y=daySum)\n",
    "# plt.grid()\n",
    "# plt.show()"
   ]
  }
 ],
 "metadata": {
  "interpreter": {
   "hash": "9db229a26d5cf1a2657f7ae314790b5ca140b1a8a0019facdc3b29abf0b80af6"
  },
  "kernelspec": {
   "display_name": "Python 3.9.2 64-bit",
   "language": "python",
   "name": "python3"
  },
  "language_info": {
   "codemirror_mode": {
    "name": "ipython",
    "version": 3
   },
   "file_extension": ".py",
   "mimetype": "text/x-python",
   "name": "python",
   "nbconvert_exporter": "python",
   "pygments_lexer": "ipython3",
   "version": "3.9.2"
  },
  "orig_nbformat": 4
 },
 "nbformat": 4,
 "nbformat_minor": 2
}
