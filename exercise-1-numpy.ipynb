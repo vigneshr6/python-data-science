{
 "cells": [
  {
   "cell_type": "code",
   "execution_count": 1,
   "source": [
    "import numpy as np"
   ],
   "outputs": [],
   "metadata": {}
  },
  {
   "cell_type": "code",
   "execution_count": 2,
   "source": [
    "ex1 = np.array([[2,3,5,7],[1,9,24,15],[5,12,19,21]])\r\n",
    "print(ex1)"
   ],
   "outputs": [
    {
     "output_type": "stream",
     "name": "stdout",
     "text": [
      "[[ 2  3  5  7]\n",
      " [ 1  9 24 15]\n",
      " [ 5 12 19 21]]\n"
     ]
    }
   ],
   "metadata": {}
  },
  {
   "cell_type": "code",
   "execution_count": 3,
   "source": [
    "print(np.size(ex1))"
   ],
   "outputs": [
    {
     "output_type": "stream",
     "name": "stdout",
     "text": [
      "12\n"
     ]
    }
   ],
   "metadata": {}
  },
  {
   "cell_type": "code",
   "execution_count": 4,
   "source": [
    "ex2 = np.zeros([3,4])\r\n",
    "print(ex2)\r\n",
    "print(\"add 5 : \",ex2+5)"
   ],
   "outputs": [
    {
     "output_type": "stream",
     "name": "stdout",
     "text": [
      "[[0. 0. 0. 0.]\n",
      " [0. 0. 0. 0.]\n",
      " [0. 0. 0. 0.]]\n",
      "add 5 :  [[5. 5. 5. 5.]\n",
      " [5. 5. 5. 5.]\n",
      " [5. 5. 5. 5.]]\n"
     ]
    }
   ],
   "metadata": {}
  },
  {
   "cell_type": "code",
   "execution_count": 5,
   "source": [
    "print(ex1.reshape([4,3]))"
   ],
   "outputs": [
    {
     "output_type": "stream",
     "name": "stdout",
     "text": [
      "[[ 2  3  5]\n",
      " [ 7  1  9]\n",
      " [24 15  5]\n",
      " [12 19 21]]\n"
     ]
    }
   ],
   "metadata": {}
  },
  {
   "cell_type": "code",
   "execution_count": 6,
   "source": [
    "print(ex1[1,2])\r\n",
    "print(ex1[2,0])\r\n",
    "print(ex1[0,3])"
   ],
   "outputs": [
    {
     "output_type": "stream",
     "name": "stdout",
     "text": [
      "24\n",
      "5\n",
      "7\n"
     ]
    }
   ],
   "metadata": {}
  },
  {
   "cell_type": "code",
   "execution_count": 7,
   "source": [
    "print(\"row sum : \",np.sum(ex1,axis =1))\r\n",
    "print(\"col sum : \",np.sum(ex1,axis =0))"
   ],
   "outputs": [
    {
     "output_type": "stream",
     "name": "stdout",
     "text": [
      "row sum :  [17 49 57]\n",
      "col sum :  [ 8 24 48 43]\n"
     ]
    }
   ],
   "metadata": {}
  },
  {
   "cell_type": "code",
   "execution_count": 8,
   "source": [
    "ex3 = ex1.ravel()\r\n",
    "print(ex3)"
   ],
   "outputs": [
    {
     "output_type": "stream",
     "name": "stdout",
     "text": [
      "[ 2  3  5  7  1  9 24 15  5 12 19 21]\n"
     ]
    }
   ],
   "metadata": {}
  },
  {
   "cell_type": "code",
   "execution_count": 9,
   "source": [
    "print(\"min : \",np.min(ex3))\r\n",
    "print(\"max : \",np.max(ex3))\r\n",
    "print(\"sum : \",np.sum(ex3))"
   ],
   "outputs": [
    {
     "output_type": "stream",
     "name": "stdout",
     "text": [
      "min :  1\n",
      "max :  24\n",
      "sum :  123\n"
     ]
    }
   ],
   "metadata": {}
  },
  {
   "cell_type": "code",
   "execution_count": 10,
   "source": [
    "ex4 = np.arange(2,25,2)\r\n",
    "print(ex4)"
   ],
   "outputs": [
    {
     "output_type": "stream",
     "name": "stdout",
     "text": [
      "[ 2  4  6  8 10 12 14 16 18 20 22 24]\n"
     ]
    }
   ],
   "metadata": {}
  },
  {
   "cell_type": "code",
   "execution_count": 11,
   "source": [
    "ar1 = np.array([[1,2,3,5],[19,24,15,10],[15,22,9,21]])\r\n",
    "print(\"hstack : \",np.hstack((ex1,ar1)))\r\n",
    "print(\"vstack : \",np.vstack((ex1,ar1)))"
   ],
   "outputs": [
    {
     "output_type": "stream",
     "name": "stdout",
     "text": [
      "hstack :  [[ 2  3  5  7  1  2  3  5]\n",
      " [ 1  9 24 15 19 24 15 10]\n",
      " [ 5 12 19 21 15 22  9 21]]\n",
      "vstack :  [[ 2  3  5  7]\n",
      " [ 1  9 24 15]\n",
      " [ 5 12 19 21]\n",
      " [ 1  2  3  5]\n",
      " [19 24 15 10]\n",
      " [15 22  9 21]]\n"
     ]
    }
   ],
   "metadata": {}
  }
 ],
 "metadata": {
  "orig_nbformat": 4,
  "language_info": {
   "name": "python",
   "version": "3.9.2",
   "mimetype": "text/x-python",
   "codemirror_mode": {
    "name": "ipython",
    "version": 3
   },
   "pygments_lexer": "ipython3",
   "nbconvert_exporter": "python",
   "file_extension": ".py"
  },
  "kernelspec": {
   "name": "python3",
   "display_name": "Python 3.9.2 64-bit"
  },
  "interpreter": {
   "hash": "9db229a26d5cf1a2657f7ae314790b5ca140b1a8a0019facdc3b29abf0b80af6"
  }
 },
 "nbformat": 4,
 "nbformat_minor": 2
}